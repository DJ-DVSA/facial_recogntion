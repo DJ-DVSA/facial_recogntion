{
 "cells": [
  {
   "cell_type": "markdown",
   "metadata": {},
   "source": [
    "## Import Libraries"
   ]
  },
  {
   "cell_type": "code",
   "execution_count": 227,
   "metadata": {},
   "outputs": [],
   "source": [
    "from deepface import DeepFace\n",
    "import pandas as pd\n",
    "from matplotlib import pyplot as plt\n",
    "import numpy as np\n",
    "\n",
    "import os\n",
    "from pathlib import Path\n",
    "from IPython.display import display\n",
    "import cv2\n",
    "\n",
    "from sklearn import metrics"
   ]
  },
  {
   "cell_type": "markdown",
   "metadata": {},
   "source": [
    "### Paths"
   ]
  },
  {
   "cell_type": "code",
   "execution_count": 171,
   "metadata": {},
   "outputs": [],
   "source": [
    "image_pth = '/home/dave/discovery_projects/driving_test_impersonation/lfw_images/lfw-deepfunneled/lfw-deepfunneled/'"
   ]
  },
  {
   "cell_type": "markdown",
   "metadata": {},
   "source": [
    "### Load required Data"
   ]
  },
  {
   "cell_type": "code",
   "execution_count": 63,
   "metadata": {},
   "outputs": [
    {
     "data": {
      "text/html": [
       "<div>\n",
       "<style scoped>\n",
       "    .dataframe tbody tr th:only-of-type {\n",
       "        vertical-align: middle;\n",
       "    }\n",
       "\n",
       "    .dataframe tbody tr th {\n",
       "        vertical-align: top;\n",
       "    }\n",
       "\n",
       "    .dataframe thead th {\n",
       "        text-align: right;\n",
       "    }\n",
       "</style>\n",
       "<table border=\"1\" class=\"dataframe\">\n",
       "  <thead>\n",
       "    <tr style=\"text-align: right;\">\n",
       "      <th></th>\n",
       "      <th>Unnamed: 0</th>\n",
       "      <th>Image</th>\n",
       "      <th>Age</th>\n",
       "      <th>Gender</th>\n",
       "      <th>Race</th>\n",
       "      <th>Emotion</th>\n",
       "      <th>face confidence</th>\n",
       "      <th>Name</th>\n",
       "    </tr>\n",
       "  </thead>\n",
       "  <tbody>\n",
       "    <tr>\n",
       "      <th>0</th>\n",
       "      <td>0</td>\n",
       "      <td>Antonio_Trillanes_0002.jpg</td>\n",
       "      <td>28</td>\n",
       "      <td>Man</td>\n",
       "      <td>black</td>\n",
       "      <td>surprise</td>\n",
       "      <td>0.91</td>\n",
       "      <td>Antonio_Trillanes</td>\n",
       "    </tr>\n",
       "    <tr>\n",
       "      <th>1</th>\n",
       "      <td>1</td>\n",
       "      <td>Antonio_Trillanes_0001.jpg</td>\n",
       "      <td>32</td>\n",
       "      <td>Man</td>\n",
       "      <td>asian</td>\n",
       "      <td>fear</td>\n",
       "      <td>0.92</td>\n",
       "      <td>Antonio_Trillanes</td>\n",
       "    </tr>\n",
       "    <tr>\n",
       "      <th>2</th>\n",
       "      <td>2</td>\n",
       "      <td>Antonio_Trillanes_0003.jpg</td>\n",
       "      <td>22</td>\n",
       "      <td>Man</td>\n",
       "      <td>asian</td>\n",
       "      <td>sad</td>\n",
       "      <td>0.93</td>\n",
       "      <td>Antonio_Trillanes</td>\n",
       "    </tr>\n",
       "    <tr>\n",
       "      <th>3</th>\n",
       "      <td>3</td>\n",
       "      <td>Priscilla_Owen_0002.jpg</td>\n",
       "      <td>39</td>\n",
       "      <td>Woman</td>\n",
       "      <td>white</td>\n",
       "      <td>happy</td>\n",
       "      <td>0.91</td>\n",
       "      <td>Priscilla_Owen</td>\n",
       "    </tr>\n",
       "    <tr>\n",
       "      <th>4</th>\n",
       "      <td>4</td>\n",
       "      <td>Priscilla_Owen_0001.jpg</td>\n",
       "      <td>35</td>\n",
       "      <td>Woman</td>\n",
       "      <td>white</td>\n",
       "      <td>neutral</td>\n",
       "      <td>0.88</td>\n",
       "      <td>Priscilla_Owen</td>\n",
       "    </tr>\n",
       "  </tbody>\n",
       "</table>\n",
       "</div>"
      ],
      "text/plain": [
       "   Unnamed: 0                       Image Age Gender   Race   Emotion  \\\n",
       "0           0  Antonio_Trillanes_0002.jpg  28    Man  black  surprise   \n",
       "1           1  Antonio_Trillanes_0001.jpg  32    Man  asian      fear   \n",
       "2           2  Antonio_Trillanes_0003.jpg  22    Man  asian       sad   \n",
       "3           3     Priscilla_Owen_0002.jpg  39  Woman  white     happy   \n",
       "4           4     Priscilla_Owen_0001.jpg  35  Woman  white   neutral   \n",
       "\n",
       "   face confidence               Name  \n",
       "0             0.91  Antonio_Trillanes  \n",
       "1             0.92  Antonio_Trillanes  \n",
       "2             0.93  Antonio_Trillanes  \n",
       "3             0.91     Priscilla_Owen  \n",
       "4             0.88     Priscilla_Owen  "
      ]
     },
     "execution_count": 63,
     "metadata": {},
     "output_type": "execute_result"
    }
   ],
   "source": [
    "im_features1 = pd.read_csv(\"/mnt/c/Users/Davidj/OneDrive - Driver and Vehicle Standards Agency/Documents/Projects/Discovery/Driving test facial Recognition/Main Discovery/deepface_test/face_classifications_csvs/lfw_class1.csv\")\n",
    "im_features2 = pd.read_csv(\"/mnt/c/Users/Davidj/OneDrive - Driver and Vehicle Standards Agency/Documents/Projects/Discovery/Driving test facial Recognition/Main Discovery/deepface_test/face_classifications_csvs/lfw_class2.csv\")\n",
    "im_features3 = pd.read_csv(\"/mnt/c/Users/Davidj/OneDrive - Driver and Vehicle Standards Agency/Documents/Projects/Discovery/Driving test facial Recognition/Main Discovery/deepface_test/face_classifications_csvs/lfw_class3.csv\")\n",
    "\n",
    "im_features = pd.concat([im_features1, im_features2, im_features3], axis=0)\n",
    "\n",
    "im_features.rename(columns = {'Name' : 'Image'}, inplace=True)\n",
    "\n",
    "im_features['Name'] = im_features['Image'].str.replace(r'_\\d{4}\\.jpg$', '', regex=True)\n",
    "\n",
    "# Remove nan\n",
    "im_features = im_features[~im_features['Race'].isna()]\n",
    "\n",
    "im_features.head()"
   ]
  },
  {
   "cell_type": "code",
   "execution_count": 107,
   "metadata": {},
   "outputs": [
    {
     "data": {
      "text/plain": [
       "2"
      ]
     },
     "execution_count": 107,
     "metadata": {},
     "output_type": "execute_result"
    }
   ],
   "source": [
    "im_features1.shape, im_features2.shape, im_features3.shape, im_features.shape\n",
    "\n",
    "im_features = im_features[im_features[\"Name\"].duplicated(keep=False)]\n",
    "\n",
    "min(im_features.groupby(\"Name\")[\"Name\"].count())"
   ]
  },
  {
   "cell_type": "code",
   "execution_count": 108,
   "metadata": {},
   "outputs": [
    {
     "data": {
      "text/plain": [
       "array(['black', 'asian', 'white', 'middle eastern', 'latino hispanic',\n",
       "       'indian'], dtype=object)"
      ]
     },
     "execution_count": 108,
     "metadata": {},
     "output_type": "execute_result"
    }
   ],
   "source": [
    "im_features['Race'].unique()\n",
    "\n",
    "sum(im_features['Race'].isna())\n",
    "\n",
    "im_features['Race'].unique()"
   ]
  },
  {
   "cell_type": "markdown",
   "metadata": {},
   "source": [
    "### Get the numbers of different ethnicities"
   ]
  },
  {
   "cell_type": "code",
   "execution_count": 109,
   "metadata": {},
   "outputs": [
    {
     "data": {
      "text/plain": [
       "2"
      ]
     },
     "execution_count": 109,
     "metadata": {},
     "output_type": "execute_result"
    }
   ],
   "source": [
    "im_features_unique = im_features.groupby('Name')['Race'].apply(lambda x: '|'.join(sorted(x.unique()))).reset_index()\n",
    "\n",
    "sum(im_features_unique['Race'] == 'indian')"
   ]
  },
  {
   "cell_type": "markdown",
   "metadata": {},
   "source": [
    "### Create matched test set"
   ]
  },
  {
   "cell_type": "code",
   "execution_count": 110,
   "metadata": {},
   "outputs": [
    {
     "data": {
      "text/html": [
       "<div>\n",
       "<style scoped>\n",
       "    .dataframe tbody tr th:only-of-type {\n",
       "        vertical-align: middle;\n",
       "    }\n",
       "\n",
       "    .dataframe tbody tr th {\n",
       "        vertical-align: top;\n",
       "    }\n",
       "\n",
       "    .dataframe thead th {\n",
       "        text-align: right;\n",
       "    }\n",
       "</style>\n",
       "<table border=\"1\" class=\"dataframe\">\n",
       "  <thead>\n",
       "    <tr style=\"text-align: right;\">\n",
       "      <th></th>\n",
       "      <th>Unnamed: 0</th>\n",
       "      <th>Image</th>\n",
       "      <th>Age</th>\n",
       "      <th>Gender</th>\n",
       "      <th>Race</th>\n",
       "      <th>Emotion</th>\n",
       "      <th>face confidence</th>\n",
       "      <th>Name</th>\n",
       "    </tr>\n",
       "  </thead>\n",
       "  <tbody>\n",
       "    <tr>\n",
       "      <th>0</th>\n",
       "      <td>0</td>\n",
       "      <td>Antonio_Trillanes_0002.jpg</td>\n",
       "      <td>28</td>\n",
       "      <td>Man</td>\n",
       "      <td>black</td>\n",
       "      <td>surprise</td>\n",
       "      <td>0.91</td>\n",
       "      <td>Antonio_Trillanes</td>\n",
       "    </tr>\n",
       "    <tr>\n",
       "      <th>1</th>\n",
       "      <td>1</td>\n",
       "      <td>Antonio_Trillanes_0001.jpg</td>\n",
       "      <td>32</td>\n",
       "      <td>Man</td>\n",
       "      <td>asian</td>\n",
       "      <td>fear</td>\n",
       "      <td>0.92</td>\n",
       "      <td>Antonio_Trillanes</td>\n",
       "    </tr>\n",
       "    <tr>\n",
       "      <th>2</th>\n",
       "      <td>2</td>\n",
       "      <td>Antonio_Trillanes_0003.jpg</td>\n",
       "      <td>22</td>\n",
       "      <td>Man</td>\n",
       "      <td>asian</td>\n",
       "      <td>sad</td>\n",
       "      <td>0.93</td>\n",
       "      <td>Antonio_Trillanes</td>\n",
       "    </tr>\n",
       "    <tr>\n",
       "      <th>3</th>\n",
       "      <td>3</td>\n",
       "      <td>Priscilla_Owen_0002.jpg</td>\n",
       "      <td>39</td>\n",
       "      <td>Woman</td>\n",
       "      <td>white</td>\n",
       "      <td>happy</td>\n",
       "      <td>0.91</td>\n",
       "      <td>Priscilla_Owen</td>\n",
       "    </tr>\n",
       "    <tr>\n",
       "      <th>4</th>\n",
       "      <td>4</td>\n",
       "      <td>Priscilla_Owen_0001.jpg</td>\n",
       "      <td>35</td>\n",
       "      <td>Woman</td>\n",
       "      <td>white</td>\n",
       "      <td>neutral</td>\n",
       "      <td>0.88</td>\n",
       "      <td>Priscilla_Owen</td>\n",
       "    </tr>\n",
       "    <tr>\n",
       "      <th>...</th>\n",
       "      <td>...</td>\n",
       "      <td>...</td>\n",
       "      <td>...</td>\n",
       "      <td>...</td>\n",
       "      <td>...</td>\n",
       "      <td>...</td>\n",
       "      <td>...</td>\n",
       "      <td>...</td>\n",
       "    </tr>\n",
       "    <tr>\n",
       "      <th>2809</th>\n",
       "      <td>2809</td>\n",
       "      <td>Paul_Bremer_0004.jpg</td>\n",
       "      <td>38</td>\n",
       "      <td>Man</td>\n",
       "      <td>white</td>\n",
       "      <td>neutral</td>\n",
       "      <td>0.89</td>\n",
       "      <td>Paul_Bremer</td>\n",
       "    </tr>\n",
       "    <tr>\n",
       "      <th>2810</th>\n",
       "      <td>2810</td>\n",
       "      <td>Paul_Bremer_0003.jpg</td>\n",
       "      <td>34</td>\n",
       "      <td>Man</td>\n",
       "      <td>white</td>\n",
       "      <td>neutral</td>\n",
       "      <td>0.90</td>\n",
       "      <td>Paul_Bremer</td>\n",
       "    </tr>\n",
       "    <tr>\n",
       "      <th>2811</th>\n",
       "      <td>2811</td>\n",
       "      <td>Paul_Bremer_0018.jpg</td>\n",
       "      <td>37</td>\n",
       "      <td>Man</td>\n",
       "      <td>white</td>\n",
       "      <td>fear</td>\n",
       "      <td>0.88</td>\n",
       "      <td>Paul_Bremer</td>\n",
       "    </tr>\n",
       "    <tr>\n",
       "      <th>2812</th>\n",
       "      <td>2812</td>\n",
       "      <td>Morgan_Freeman_0001.jpg</td>\n",
       "      <td>37</td>\n",
       "      <td>Man</td>\n",
       "      <td>black</td>\n",
       "      <td>neutral</td>\n",
       "      <td>0.94</td>\n",
       "      <td>Morgan_Freeman</td>\n",
       "    </tr>\n",
       "    <tr>\n",
       "      <th>2813</th>\n",
       "      <td>2813</td>\n",
       "      <td>Morgan_Freeman_0002.jpg</td>\n",
       "      <td>27</td>\n",
       "      <td>Man</td>\n",
       "      <td>black</td>\n",
       "      <td>fear</td>\n",
       "      <td>0.94</td>\n",
       "      <td>Morgan_Freeman</td>\n",
       "    </tr>\n",
       "  </tbody>\n",
       "</table>\n",
       "<p>8064 rows × 8 columns</p>\n",
       "</div>"
      ],
      "text/plain": [
       "      Unnamed: 0                       Image Age Gender   Race   Emotion  \\\n",
       "0              0  Antonio_Trillanes_0002.jpg  28    Man  black  surprise   \n",
       "1              1  Antonio_Trillanes_0001.jpg  32    Man  asian      fear   \n",
       "2              2  Antonio_Trillanes_0003.jpg  22    Man  asian       sad   \n",
       "3              3     Priscilla_Owen_0002.jpg  39  Woman  white     happy   \n",
       "4              4     Priscilla_Owen_0001.jpg  35  Woman  white   neutral   \n",
       "...          ...                         ...  ..    ...    ...       ...   \n",
       "2809        2809        Paul_Bremer_0004.jpg  38    Man  white   neutral   \n",
       "2810        2810        Paul_Bremer_0003.jpg  34    Man  white   neutral   \n",
       "2811        2811        Paul_Bremer_0018.jpg  37    Man  white      fear   \n",
       "2812        2812     Morgan_Freeman_0001.jpg  37    Man  black   neutral   \n",
       "2813        2813     Morgan_Freeman_0002.jpg  27    Man  black      fear   \n",
       "\n",
       "      face confidence               Name  \n",
       "0                0.91  Antonio_Trillanes  \n",
       "1                0.92  Antonio_Trillanes  \n",
       "2                0.93  Antonio_Trillanes  \n",
       "3                0.91     Priscilla_Owen  \n",
       "4                0.88     Priscilla_Owen  \n",
       "...               ...                ...  \n",
       "2809             0.89        Paul_Bremer  \n",
       "2810             0.90        Paul_Bremer  \n",
       "2811             0.88        Paul_Bremer  \n",
       "2812             0.94     Morgan_Freeman  \n",
       "2813             0.94     Morgan_Freeman  \n",
       "\n",
       "[8064 rows x 8 columns]"
      ]
     },
     "execution_count": 110,
     "metadata": {},
     "output_type": "execute_result"
    }
   ],
   "source": [
    "im_features"
   ]
  },
  {
   "cell_type": "code",
   "execution_count": 349,
   "metadata": {},
   "outputs": [
    {
     "data": {
      "text/plain": [
       "((440, 8), (4809, 8))"
      ]
     },
     "execution_count": 349,
     "metadata": {},
     "output_type": "execute_result"
    }
   ],
   "source": [
    "# White images\n",
    "im_features_white = im_features[im_features[\"Race\"] == \"white\"]\n",
    "\n",
    "im_features_white[\"Race\"].unique()\n",
    "\n",
    "# Black images\n",
    "im_features_black = im_features[im_features[\"Race\"] == \"black\"]\n",
    "\n",
    "im_features_black.shape, im_features_white.shape"
   ]
  },
  {
   "cell_type": "code",
   "execution_count": 161,
   "metadata": {},
   "outputs": [
    {
     "data": {
      "text/html": [
       "<div>\n",
       "<style scoped>\n",
       "    .dataframe tbody tr th:only-of-type {\n",
       "        vertical-align: middle;\n",
       "    }\n",
       "\n",
       "    .dataframe tbody tr th {\n",
       "        vertical-align: top;\n",
       "    }\n",
       "\n",
       "    .dataframe thead th {\n",
       "        text-align: right;\n",
       "    }\n",
       "</style>\n",
       "<table border=\"1\" class=\"dataframe\">\n",
       "  <thead>\n",
       "    <tr style=\"text-align: right;\">\n",
       "      <th></th>\n",
       "      <th>Name</th>\n",
       "      <th>Race</th>\n",
       "      <th>Path1</th>\n",
       "      <th>Path2</th>\n",
       "    </tr>\n",
       "  </thead>\n",
       "  <tbody>\n",
       "    <tr>\n",
       "      <th>0</th>\n",
       "      <td>Aaron_Peirsol</td>\n",
       "      <td>white</td>\n",
       "      <td>Aaron_Peirsol_0004.jpg</td>\n",
       "      <td>Aaron_Peirsol_0002.jpg</td>\n",
       "    </tr>\n",
       "    <tr>\n",
       "      <th>18</th>\n",
       "      <td>Aitor_Gonzalez</td>\n",
       "      <td>white</td>\n",
       "      <td>Aitor_Gonzalez_0001.jpg</td>\n",
       "      <td>Aitor_Gonzalez_0002.jpg</td>\n",
       "    </tr>\n",
       "    <tr>\n",
       "      <th>21</th>\n",
       "      <td>Al_Pacino</td>\n",
       "      <td>white</td>\n",
       "      <td>Al_Pacino_0002.jpg</td>\n",
       "      <td>Al_Pacino_0001.jpg</td>\n",
       "    </tr>\n",
       "    <tr>\n",
       "      <th>23</th>\n",
       "      <td>Alan_Ball</td>\n",
       "      <td>white</td>\n",
       "      <td>Alan_Ball_0001.jpg</td>\n",
       "      <td>Alan_Ball_0002.jpg</td>\n",
       "    </tr>\n",
       "    <tr>\n",
       "      <th>25</th>\n",
       "      <td>Alastair_Campbell</td>\n",
       "      <td>white</td>\n",
       "      <td>Alastair_Campbell_0003.jpg</td>\n",
       "      <td>Alastair_Campbell_0005.jpg</td>\n",
       "    </tr>\n",
       "    <tr>\n",
       "      <th>...</th>\n",
       "      <td>...</td>\n",
       "      <td>...</td>\n",
       "      <td>...</td>\n",
       "      <td>...</td>\n",
       "    </tr>\n",
       "    <tr>\n",
       "      <th>1450</th>\n",
       "      <td>Xavier_Malisse</td>\n",
       "      <td>white</td>\n",
       "      <td>Xavier_Malisse_0003.jpg</td>\n",
       "      <td>Xavier_Malisse_0001.jpg</td>\n",
       "    </tr>\n",
       "    <tr>\n",
       "      <th>1454</th>\n",
       "      <td>Yevgeny_Kafelnikov</td>\n",
       "      <td>white</td>\n",
       "      <td>Yevgeny_Kafelnikov_0002.jpg</td>\n",
       "      <td>Yevgeny_Kafelnikov_0001.jpg</td>\n",
       "    </tr>\n",
       "    <tr>\n",
       "      <th>1457</th>\n",
       "      <td>Yossi_Beilin</td>\n",
       "      <td>white</td>\n",
       "      <td>Yossi_Beilin_0001.jpg</td>\n",
       "      <td>Yossi_Beilin_0002.jpg</td>\n",
       "    </tr>\n",
       "    <tr>\n",
       "      <th>1467</th>\n",
       "      <td>Zico</td>\n",
       "      <td>white</td>\n",
       "      <td>Zico_0003.jpg</td>\n",
       "      <td>Zico_0001.jpg</td>\n",
       "    </tr>\n",
       "    <tr>\n",
       "      <th>1469</th>\n",
       "      <td>Zoran_Djindjic</td>\n",
       "      <td>white</td>\n",
       "      <td>Zoran_Djindjic_0004.jpg</td>\n",
       "      <td>Zoran_Djindjic_0002.jpg</td>\n",
       "    </tr>\n",
       "  </tbody>\n",
       "</table>\n",
       "<p>588 rows × 4 columns</p>\n",
       "</div>"
      ],
      "text/plain": [
       "                    Name   Race                        Path1  \\\n",
       "0          Aaron_Peirsol  white       Aaron_Peirsol_0004.jpg   \n",
       "18        Aitor_Gonzalez  white      Aitor_Gonzalez_0001.jpg   \n",
       "21             Al_Pacino  white           Al_Pacino_0002.jpg   \n",
       "23             Alan_Ball  white           Alan_Ball_0001.jpg   \n",
       "25     Alastair_Campbell  white   Alastair_Campbell_0003.jpg   \n",
       "...                  ...    ...                          ...   \n",
       "1450      Xavier_Malisse  white      Xavier_Malisse_0003.jpg   \n",
       "1454  Yevgeny_Kafelnikov  white  Yevgeny_Kafelnikov_0002.jpg   \n",
       "1457        Yossi_Beilin  white        Yossi_Beilin_0001.jpg   \n",
       "1467                Zico  white                Zico_0003.jpg   \n",
       "1469      Zoran_Djindjic  white      Zoran_Djindjic_0004.jpg   \n",
       "\n",
       "                            Path2  \n",
       "0          Aaron_Peirsol_0002.jpg  \n",
       "18        Aitor_Gonzalez_0002.jpg  \n",
       "21             Al_Pacino_0001.jpg  \n",
       "23             Alan_Ball_0002.jpg  \n",
       "25     Alastair_Campbell_0005.jpg  \n",
       "...                           ...  \n",
       "1450      Xavier_Malisse_0001.jpg  \n",
       "1454  Yevgeny_Kafelnikov_0001.jpg  \n",
       "1457        Yossi_Beilin_0002.jpg  \n",
       "1467                Zico_0001.jpg  \n",
       "1469      Zoran_Djindjic_0002.jpg  \n",
       "\n",
       "[588 rows x 4 columns]"
      ]
     },
     "execution_count": 161,
     "metadata": {},
     "output_type": "execute_result"
    }
   ],
   "source": [
    "im_features_matched_white = im_features_unique[im_features_unique[\"Race\"] == \"white\" ]\n",
    "\n",
    "im_features_matched_white[\"Path1\"] = [im_features[im_features[\"Name\"] == x][\"Image\"].iloc[0] for x in im_features_matched_white[\"Name\"]]\n",
    "im_features_matched_white[\"Path2\"] = [im_features[im_features[\"Name\"] == x][\"Image\"].iloc[1] for x in im_features_matched_white[\"Name\"]]\n",
    "\n",
    "im_features_matched_white"
   ]
  },
  {
   "cell_type": "markdown",
   "metadata": {},
   "source": [
    "### Create unmatched test set"
   ]
  },
  {
   "cell_type": "code",
   "execution_count": 206,
   "metadata": {},
   "outputs": [
    {
     "data": {
      "text/html": [
       "<div>\n",
       "<style scoped>\n",
       "    .dataframe tbody tr th:only-of-type {\n",
       "        vertical-align: middle;\n",
       "    }\n",
       "\n",
       "    .dataframe tbody tr th {\n",
       "        vertical-align: top;\n",
       "    }\n",
       "\n",
       "    .dataframe thead th {\n",
       "        text-align: right;\n",
       "    }\n",
       "</style>\n",
       "<table border=\"1\" class=\"dataframe\">\n",
       "  <thead>\n",
       "    <tr style=\"text-align: right;\">\n",
       "      <th></th>\n",
       "      <th>Name1</th>\n",
       "      <th>Name2</th>\n",
       "      <th>Image1</th>\n",
       "      <th>Image2</th>\n",
       "    </tr>\n",
       "  </thead>\n",
       "  <tbody>\n",
       "    <tr>\n",
       "      <th>0</th>\n",
       "      <td>John_Snow</td>\n",
       "      <td>Celine_Dion</td>\n",
       "      <td>John_Snow_0001.jpg</td>\n",
       "      <td>Celine_Dion_0002.jpg</td>\n",
       "    </tr>\n",
       "    <tr>\n",
       "      <th>1</th>\n",
       "      <td>Paul_Gascoigne</td>\n",
       "      <td>Jose_Manuel_Durao_Barroso</td>\n",
       "      <td>Paul_Gascoigne_0002.jpg</td>\n",
       "      <td>Jose_Manuel_Durao_Barroso_0002.jpg</td>\n",
       "    </tr>\n",
       "    <tr>\n",
       "      <th>2</th>\n",
       "      <td>Alexander_Losyukov</td>\n",
       "      <td>John_Rowland</td>\n",
       "      <td>Alexander_Losyukov_0002.jpg</td>\n",
       "      <td>John_Rowland_0002.jpg</td>\n",
       "    </tr>\n",
       "    <tr>\n",
       "      <th>3</th>\n",
       "      <td>Tony_Blair</td>\n",
       "      <td>Jennifer_Reilly</td>\n",
       "      <td>Tony_Blair_0114.jpg</td>\n",
       "      <td>Jennifer_Reilly_0001.jpg</td>\n",
       "    </tr>\n",
       "    <tr>\n",
       "      <th>4</th>\n",
       "      <td>Jennifer_Aniston</td>\n",
       "      <td>George_W_Bush</td>\n",
       "      <td>Jennifer_Aniston_0005.jpg</td>\n",
       "      <td>George_W_Bush_0187.jpg</td>\n",
       "    </tr>\n",
       "  </tbody>\n",
       "</table>\n",
       "</div>"
      ],
      "text/plain": [
       "                Name1                      Name2                       Image1  \\\n",
       "0           John_Snow                Celine_Dion           John_Snow_0001.jpg   \n",
       "1      Paul_Gascoigne  Jose_Manuel_Durao_Barroso      Paul_Gascoigne_0002.jpg   \n",
       "2  Alexander_Losyukov               John_Rowland  Alexander_Losyukov_0002.jpg   \n",
       "3          Tony_Blair            Jennifer_Reilly          Tony_Blair_0114.jpg   \n",
       "4    Jennifer_Aniston              George_W_Bush    Jennifer_Aniston_0005.jpg   \n",
       "\n",
       "                               Image2  \n",
       "0                Celine_Dion_0002.jpg  \n",
       "1  Jose_Manuel_Durao_Barroso_0002.jpg  \n",
       "2               John_Rowland_0002.jpg  \n",
       "3            Jennifer_Reilly_0001.jpg  \n",
       "4              George_W_Bush_0187.jpg  "
      ]
     },
     "execution_count": 206,
     "metadata": {},
     "output_type": "execute_result"
    }
   ],
   "source": [
    "imN = 500\n",
    "\n",
    "im_features_unmatched_white_sel = im_features_white.iloc[np.random.randint(low=0, high=len(im_features_white), size=imN) ]\n",
    "\n",
    "im_features_unmatched_white_sel2 = im_features_white.iloc[np.random.randint(low=0, high=len(im_features_white), size=imN)]\n",
    "\n",
    "im_features_unmatched_white = pd.DataFrame({\"Name1\" : list(im_features_unmatched_white_sel[\"Name\"]),\n",
    "                                            \"Name2\": list(im_features_unmatched_white_sel2[\"Name\"]),\n",
    "                                             \"Image1\" : list(im_features_unmatched_white_sel[\"Image\"]),\n",
    "                                             \"Image2\" : list(im_features_unmatched_white_sel2[\"Image\"])\n",
    "                                             })\n",
    "\n",
    "im_features_unmatched_white = im_features_unmatched_white[~(im_features_unmatched_white[\"Name1\"] == im_features_unmatched_white[\"Name2\"])]\n",
    "\n",
    "im_features_unmatched_white.head()"
   ]
  },
  {
   "cell_type": "markdown",
   "metadata": {},
   "source": [
    "### Run a deepface on matched and unmatched"
   ]
  },
  {
   "cell_type": "code",
   "execution_count": 207,
   "metadata": {},
   "outputs": [
    {
     "data": {
      "text/html": [
       "<div>\n",
       "<style scoped>\n",
       "    .dataframe tbody tr th:only-of-type {\n",
       "        vertical-align: middle;\n",
       "    }\n",
       "\n",
       "    .dataframe tbody tr th {\n",
       "        vertical-align: top;\n",
       "    }\n",
       "\n",
       "    .dataframe thead th {\n",
       "        text-align: right;\n",
       "    }\n",
       "</style>\n",
       "<table border=\"1\" class=\"dataframe\">\n",
       "  <thead>\n",
       "    <tr style=\"text-align: right;\">\n",
       "      <th></th>\n",
       "      <th>index</th>\n",
       "      <th>Name1</th>\n",
       "      <th>Name2</th>\n",
       "      <th>Image1</th>\n",
       "      <th>Image2</th>\n",
       "    </tr>\n",
       "  </thead>\n",
       "  <tbody>\n",
       "    <tr>\n",
       "      <th>0</th>\n",
       "      <td>0</td>\n",
       "      <td>Aaron_Peirsol</td>\n",
       "      <td>Aaron_Peirsol</td>\n",
       "      <td>Aaron_Peirsol_0004.jpg</td>\n",
       "      <td>Aaron_Peirsol_0002.jpg</td>\n",
       "    </tr>\n",
       "    <tr>\n",
       "      <th>1</th>\n",
       "      <td>1</td>\n",
       "      <td>Aitor_Gonzalez</td>\n",
       "      <td>Aitor_Gonzalez</td>\n",
       "      <td>Aitor_Gonzalez_0001.jpg</td>\n",
       "      <td>Aitor_Gonzalez_0002.jpg</td>\n",
       "    </tr>\n",
       "    <tr>\n",
       "      <th>2</th>\n",
       "      <td>2</td>\n",
       "      <td>Al_Pacino</td>\n",
       "      <td>Al_Pacino</td>\n",
       "      <td>Al_Pacino_0002.jpg</td>\n",
       "      <td>Al_Pacino_0001.jpg</td>\n",
       "    </tr>\n",
       "    <tr>\n",
       "      <th>3</th>\n",
       "      <td>3</td>\n",
       "      <td>Alan_Ball</td>\n",
       "      <td>Alan_Ball</td>\n",
       "      <td>Alan_Ball_0001.jpg</td>\n",
       "      <td>Alan_Ball_0002.jpg</td>\n",
       "    </tr>\n",
       "    <tr>\n",
       "      <th>4</th>\n",
       "      <td>4</td>\n",
       "      <td>Alastair_Campbell</td>\n",
       "      <td>Alastair_Campbell</td>\n",
       "      <td>Alastair_Campbell_0003.jpg</td>\n",
       "      <td>Alastair_Campbell_0005.jpg</td>\n",
       "    </tr>\n",
       "    <tr>\n",
       "      <th>...</th>\n",
       "      <td>...</td>\n",
       "      <td>...</td>\n",
       "      <td>...</td>\n",
       "      <td>...</td>\n",
       "      <td>...</td>\n",
       "    </tr>\n",
       "    <tr>\n",
       "      <th>1078</th>\n",
       "      <td>495</td>\n",
       "      <td>Jeremy_Greenstock</td>\n",
       "      <td>Amelie_Mauresmo</td>\n",
       "      <td>Jeremy_Greenstock_0011.jpg</td>\n",
       "      <td>Amelie_Mauresmo_0008.jpg</td>\n",
       "    </tr>\n",
       "    <tr>\n",
       "      <th>1079</th>\n",
       "      <td>496</td>\n",
       "      <td>Laura_Bush</td>\n",
       "      <td>Justin_Timberlake</td>\n",
       "      <td>Laura_Bush_0008.jpg</td>\n",
       "      <td>Justin_Timberlake_0003.jpg</td>\n",
       "    </tr>\n",
       "    <tr>\n",
       "      <th>1080</th>\n",
       "      <td>497</td>\n",
       "      <td>Emma_Watson</td>\n",
       "      <td>Colin_Powell</td>\n",
       "      <td>Emma_Watson_0002.jpg</td>\n",
       "      <td>Colin_Powell_0049.jpg</td>\n",
       "    </tr>\n",
       "    <tr>\n",
       "      <th>1081</th>\n",
       "      <td>498</td>\n",
       "      <td>Asa_Hutchinson</td>\n",
       "      <td>Paul_Bremer</td>\n",
       "      <td>Asa_Hutchinson_0001.jpg</td>\n",
       "      <td>Paul_Bremer_0009.jpg</td>\n",
       "    </tr>\n",
       "    <tr>\n",
       "      <th>1082</th>\n",
       "      <td>499</td>\n",
       "      <td>Nicole_Kidman</td>\n",
       "      <td>Eve_Pelletier</td>\n",
       "      <td>Nicole_Kidman_0009.jpg</td>\n",
       "      <td>Eve_Pelletier_0001.jpg</td>\n",
       "    </tr>\n",
       "  </tbody>\n",
       "</table>\n",
       "<p>1083 rows × 5 columns</p>\n",
       "</div>"
      ],
      "text/plain": [
       "      index              Name1              Name2                      Image1  \\\n",
       "0         0      Aaron_Peirsol      Aaron_Peirsol      Aaron_Peirsol_0004.jpg   \n",
       "1         1     Aitor_Gonzalez     Aitor_Gonzalez     Aitor_Gonzalez_0001.jpg   \n",
       "2         2          Al_Pacino          Al_Pacino          Al_Pacino_0002.jpg   \n",
       "3         3          Alan_Ball          Alan_Ball          Alan_Ball_0001.jpg   \n",
       "4         4  Alastair_Campbell  Alastair_Campbell  Alastair_Campbell_0003.jpg   \n",
       "...     ...                ...                ...                         ...   \n",
       "1078    495  Jeremy_Greenstock    Amelie_Mauresmo  Jeremy_Greenstock_0011.jpg   \n",
       "1079    496         Laura_Bush  Justin_Timberlake         Laura_Bush_0008.jpg   \n",
       "1080    497        Emma_Watson       Colin_Powell        Emma_Watson_0002.jpg   \n",
       "1081    498     Asa_Hutchinson        Paul_Bremer     Asa_Hutchinson_0001.jpg   \n",
       "1082    499      Nicole_Kidman      Eve_Pelletier      Nicole_Kidman_0009.jpg   \n",
       "\n",
       "                          Image2  \n",
       "0         Aaron_Peirsol_0002.jpg  \n",
       "1        Aitor_Gonzalez_0002.jpg  \n",
       "2             Al_Pacino_0001.jpg  \n",
       "3             Alan_Ball_0002.jpg  \n",
       "4     Alastair_Campbell_0005.jpg  \n",
       "...                          ...  \n",
       "1078    Amelie_Mauresmo_0008.jpg  \n",
       "1079  Justin_Timberlake_0003.jpg  \n",
       "1080       Colin_Powell_0049.jpg  \n",
       "1081        Paul_Bremer_0009.jpg  \n",
       "1082      Eve_Pelletier_0001.jpg  \n",
       "\n",
       "[1083 rows x 5 columns]"
      ]
     },
     "execution_count": 207,
     "metadata": {},
     "output_type": "execute_result"
    }
   ],
   "source": [
    "im_features_matched_white_test = pd.DataFrame({\"Name1\":list(im_features_matched_white[\"Name\"]),\n",
    "                                               \"Name2\":list(im_features_matched_white[\"Name\"]),\n",
    "                                               \"Image1\":list(im_features_matched_white[\"Path1\"]),\n",
    "                                               \"Image2\":list(im_features_matched_white[\"Path2\"])\n",
    "                                               } )\n",
    "\n",
    "im_features_white_test = pd.concat([im_features_matched_white_test, im_features_unmatched_white], axis = 0).reset_index()\n",
    "\n",
    "im_features_white_test"
   ]
  },
  {
   "cell_type": "code",
   "execution_count": 350,
   "metadata": {},
   "outputs": [
    {
     "name": "stdout",
     "output_type": "stream",
     "text": [
      "Image number: 680\n",
      "Image number: 690\n",
      "Image number: 700\n",
      "Image number: 710\n",
      "Image number: 720\n",
      "Image number: 730\n",
      "Image number: 740\n",
      "Image number: 750\n",
      "Image number: 760\n",
      "Image number: 770\n",
      "Image number: 780\n",
      "Image number: 790\n",
      "Image number: 800\n",
      "Image number: 810\n",
      "Image number: 820\n",
      "Image number: 830\n",
      "Image number: 840\n",
      "Image number: 850\n",
      "Image number: 860\n",
      "Image number: 870\n",
      "Image number: 880\n",
      "Image number: 890\n",
      "Image number: 900\n",
      "Image number: 910\n",
      "Image number: 920\n",
      "Image number: 930\n",
      "Image number: 940\n",
      "Image number: 950\n",
      "Image number: 960\n",
      "Image number: 970\n",
      "Image number: 980\n",
      "Image number: 990\n",
      "Image number: 1000\n",
      "Image number: 1010\n",
      "Image number: 1020\n",
      "Image number: 1030\n",
      "Image number: 1040\n",
      "Image number: 1050\n",
      "Image number: 1060\n",
      "Image number: 1070\n",
      "Image number: 1080\n"
     ]
    }
   ],
   "source": [
    "## VGG-face\n",
    "# white\n",
    "# match_white_test = []\n",
    "\n",
    "# for dx in range(0, len(im_features_white_test)):\n",
    "    \n",
    "#     if dx%10 == 0:\n",
    "#         print(f'Image number: {dx}')\n",
    "       \n",
    "#     result = DeepFace.verify(\n",
    "#         img1_path = f'{image_pth}{im_features_white_test[\"Name1\"][dx]}/{im_features_white_test[\"Image1\"][dx]}',\n",
    "#         img2_path = f'{image_pth}{im_features_white_test[\"Name2\"][dx]}/{im_features_white_test[\"Image2\"][dx]}'\n",
    "#     )\n",
    "    \n",
    "#     match_white_test.append(result)\n",
    "\n",
    "## \n",
    "\n",
    "match_white_test_facenet512 = []\n",
    "\n",
    "for dx in range(0, len(im_features_white_test)):\n",
    "    \n",
    "    if dx%10 == 0:\n",
    "        print(f'Image number: {dx}')\n",
    "       \n",
    "    result = DeepFace.verify(\n",
    "        img1_path = f'{image_pth}{im_features_white_test[\"Name1\"][dx]}/{im_features_white_test[\"Image1\"][dx]}',\n",
    "        img2_path = f'{image_pth}{im_features_white_test[\"Name2\"][dx]}/{im_features_white_test[\"Image2\"][dx]}',\n",
    "        model_name=\"Facenet512\"\n",
    "    )\n",
    "    \n",
    "    match_white_test_facenet512.append(result)\n",
    "\n",
    "\n",
    "#result"
   ]
  },
  {
   "cell_type": "code",
   "execution_count": 355,
   "metadata": {},
   "outputs": [
    {
     "data": {
      "text/plain": [
       "1.3362745611292572"
      ]
     },
     "execution_count": 355,
     "metadata": {},
     "output_type": "execute_result"
    }
   ],
   "source": [
    "## VGG-face\n",
    "\n",
    "# match_white_test_dist = [x[\"distance\"] for x in match_white_test]\n",
    "\n",
    "# match_white_test_dist\n",
    "\n",
    "# im_features_white_test[\"dist\"] = match_white_test_dist\n",
    "# im_features_white_test[\"Match\"] = ((im_features_white_test[\"Name1\"] == im_features_white_test[\"Name2\"]))\n",
    "\n",
    "# im_features_white_test[\"Match\"] = im_features_white_test[\"Match\"].replace({True: 'Match', False: 'No Match'})\n",
    "\n",
    "# im_features_white_test[\"Confidence\"] = 1- im_features_white_test[\"dist\"]\n",
    "\n",
    "# im_features_white_test\n",
    "\n",
    "## Facenet 512\n",
    "match_white_test_dist_facenet512 = [x[\"distance\"] for x in match_white_test_facenet512]\n",
    "\n",
    "im_features_white_test[\"dist_facenet512\"] = match_white_test_dist_facenet512\n",
    "\n",
    "im_features_white_test[\"Confidence_facenet512\"] = 1- im_features_white_test[\"dist_facenet512\"]\n",
    "\n",
    "im_features_white_test[\"dist_facenet512\"].max()"
   ]
  },
  {
   "cell_type": "markdown",
   "metadata": {},
   "source": [
    "### Plot the ROC curve"
   ]
  },
  {
   "cell_type": "code",
   "execution_count": 326,
   "metadata": {},
   "outputs": [
    {
     "data": {
      "text/plain": [
       "[<matplotlib.lines.Line2D at 0x7fa6d837f640>]"
      ]
     },
     "execution_count": 326,
     "metadata": {},
     "output_type": "execute_result"
    },
    {
     "data": {
      "image/png": "[encoded data removed]",
      "text/plain": [
       "<Figure size 640x480 with 1 Axes>"
      ]
     },
     "metadata": {},
     "output_type": "display_data"
    }
   ],
   "source": [
    "## This is just checking I understand how TPR works in sci-kit learn\n",
    "def tpr_calc(df, threshold, confidence = \"Confidence\", truth = \"Match\",  pos_label = \"Match\"):\n",
    "    \n",
    "    tp = len(df[(df[confidence] >= threshold) & (df[truth] == pos_label)])\n",
    "    fn = len(df[(df[confidence] < threshold) & (df[truth] == pos_label)])\n",
    "    \n",
    "    tpr = float(tp)/float(tp + fn)\n",
    "    \n",
    "    return(tpr)\n",
    "\n",
    "\n",
    "tpr_test = tpr_calc(im_features_white_test, 0.5)\n",
    "\n",
    "threshold_array = np.linspace(0, 1, 100)\n",
    "\n",
    "tpr_test = [tpr_calc(im_features_white_test, x) for x in threshold_array]\n",
    "\n",
    "plt.plot(threshold_array, tpr_test)\n",
    "plt.plot(thresholds, tpr)"
   ]
  },
  {
   "cell_type": "code",
   "execution_count": 297,
   "metadata": {},
   "outputs": [
    {
     "data": {
      "text/plain": [
       "<matplotlib.legend.Legend at 0x7fa6cc5e7220>"
      ]
     },
     "execution_count": 297,
     "metadata": {},
     "output_type": "execute_result"
    },
    {
     "data": {
      "image/png": "[encoded data removed]",
      "text/plain": [
       "<Figure size 600x400 with 1 Axes>"
      ]
     },
     "metadata": {},
     "output_type": "display_data"
    }
   ],
   "source": [
    "fpr, tpr, thresholds = metrics.roc_curve(im_features_white_test['Match'], im_features_white_test['Confidence'], pos_label='Match')\n",
    "\n",
    "tnr = 1 - fpr\n",
    "fnr = 1 - tpr\n",
    "\n",
    "# axes = plt.subplot()\n",
    "# axes.plot(thresholds, tpr)\n",
    "# axes.plot(thresholds, fpr)\n",
    "# axes.plot(thresholds, tnr)\n",
    "# axes.plot(thresholds, fnr)\n",
    "\n",
    "# axes.set_xlabel('Threshold')\n",
    "# axes.set_ylabel('True Positive Rate')\n",
    "# axes.grid()\n",
    "# plt.legend([\"TPR\", \"FPR\", \"TNR\", \"FNR\"])\n",
    "\n",
    "rocfig,rocaxes = plt.subplots(figsize =(6, 4))\n",
    "rocaxes.plot(thresholds, tpr, linewidth = 3)\n",
    "rocaxes.plot(thresholds, fpr, linewidth = 3)\n",
    "rocaxes.set_xlabel('Threshold')\n",
    "rocaxes.set_ylabel('Rate')\n",
    "rocaxes.grid()\n",
    "rocaxes.legend([\"TPR\", \"FPR\"])\n",
    "\n",
    "# rocaxes2 = plt.subplot()\n",
    "# rocaxes2.plot(fnr, tnr)\n",
    "# rocaxes2.set_xlabel('FNR')\n",
    "# rocaxes2.set_ylabel('TNR')\n",
    "# rocaxes2.grid()\n"
   ]
  },
  {
   "cell_type": "code",
   "execution_count": 356,
   "metadata": {},
   "outputs": [
    {
     "data": {
      "text/plain": [
       "<matplotlib.legend.Legend at 0x7fa6d8a12a00>"
      ]
     },
     "execution_count": 356,
     "metadata": {},
     "output_type": "execute_result"
    },
    {
     "data": {
      "image/png": "[encoded data removed]",
      "text/plain": [
       "<Figure size 600x400 with 1 Axes>"
      ]
     },
     "metadata": {},
     "output_type": "display_data"
    }
   ],
   "source": [
    "fpr, tpr, thresholds = metrics.roc_curve(im_features_white_test['Match'], im_features_white_test['Confidence_facenet512'], pos_label='Match')\n",
    "\n",
    "\n",
    "rocfig,rocaxes = plt.subplots(figsize =(6, 4))\n",
    "rocaxes.plot(thresholds, tpr, linewidth = 3)\n",
    "rocaxes.plot(thresholds, fpr, linewidth = 3)\n",
    "rocaxes.set_xlabel('Threshold')\n",
    "rocaxes.set_ylabel('Rate')\n",
    "rocaxes.grid()\n",
    "rocaxes.legend([\"TPR\", \"FPR\"])\n"
   ]
  },
  {
   "cell_type": "code",
   "execution_count": 348,
   "metadata": {},
   "outputs": [
    {
     "data": {
      "image/png": "[encoded data removed]",
      "text/plain": [
       "<Figure size 640x480 with 1 Axes>"
      ]
     },
     "metadata": {},
     "output_type": "display_data"
    }
   ],
   "source": [
    "rocaxes2 = plt.subplot()\n",
    "rocaxes2.plot(fpr, tpr, linewidth = 3)\n",
    "rocaxes2.scatter(fpr, tpr, linewidth = 1)\n",
    "rocaxes2.set_xlabel('FPR')\n",
    "rocaxes2.set_ylabel('TPR')\n",
    "rocaxes2.grid()\n",
    "\n",
    "fpr_ref = fpr[0]\n",
    "tpr_ref = tpr[0]\n",
    "\n",
    "rocaxes2.annotate(f'{thresholds[0]:.2f}', (fpr[0], tpr[0]), textcoords=\"offset points\", xytext=(5,0), ha='left')\n",
    "for i, threshold in enumerate(thresholds):\n",
    "    \n",
    "    if (tpr_ref  - tpr[i])**2 + (fpr_ref  - fpr[i])**2 > 0.005:\n",
    "    \n",
    "        rocaxes2.annotate(f'{threshold:.2f}', (fpr[i], tpr[i]), textcoords=\"offset points\", xytext=(5,0), ha='left')\n",
    "        fpr_ref = fpr[i]\n",
    "        tpr_ref = tpr[i]"
   ]
  },
  {
   "cell_type": "code",
   "execution_count": 343,
   "metadata": {},
   "outputs": [
    {
     "data": {
      "text/plain": [
       "(0.0, 0.0, 139, 1.0, -2.0)"
      ]
     },
     "execution_count": 343,
     "metadata": {},
     "output_type": "execute_result"
    }
   ],
   "source": [
    "fpr_ref, tpr_ref, i, fpr[i], (tpr_ref**2 + fpr_ref**2) - (fpr[i]**2 + tpr[i]**2)"
   ]
  },
  {
   "cell_type": "code",
   "execution_count": 275,
   "metadata": {},
   "outputs": [
    {
     "name": "stdout",
     "output_type": "stream",
     "text": [
      "Threshold: 0.0, TNR: 0.00, FNR: 0.00\n",
      "Threshold: 0.1, TNR: 0.17, FNR: 0.00\n",
      "Threshold: 0.1, TNR: 0.55, FNR: 0.02\n",
      "Threshold: 0.2, TNR: 0.76, FNR: 0.04\n",
      "Threshold: 0.2, TNR: 0.91, FNR: 0.08\n",
      "Threshold: 0.2, TNR: 0.96, FNR: 0.12\n",
      "Threshold: 0.3, TNR: 0.98, FNR: 0.17\n",
      "Threshold: 0.4, TNR: 0.99, FNR: 0.24\n",
      "Threshold: 0.4, TNR: 0.99, FNR: 0.35\n",
      "Threshold: 0.5, TNR: 0.99, FNR: 0.46\n",
      "Threshold: 0.5, TNR: 0.99, FNR: 0.56\n",
      "Threshold: 0.6, TNR: 1.00, FNR: 0.69\n",
      "Threshold: 0.6, TNR: 1.00, FNR: 0.77\n",
      "Threshold: 0.7, TNR: 1.00, FNR: 0.83\n",
      "Threshold: 0.7, TNR: 1.00, FNR: 0.92\n",
      "Threshold: 0.8, TNR: 1.00, FNR: 0.96\n",
      "Threshold: 0.8, TNR: 1.00, FNR: 0.99\n",
      "Threshold: 0.9, TNR: 1.00, FNR: 0.99\n",
      "Threshold: 0.9, TNR: 1.00, FNR: 1.00\n",
      "Threshold: 1.0, TNR: 1.00, FNR: 1.00\n",
      "Threshold: 1.0, TNR: 1.00, FNR: 1.00\n",
      "Threshold: 1.1, TNR: 1.00, FNR: 1.00\n"
     ]
    }
   ],
   "source": [
    "import numpy as np\n",
    "from sklearn.metrics import confusion_matrix\n",
    "\n",
    "# Sample true labels and predicted probabilities (from a classifier)\n",
    "y_true = im_features_white_test[\"Match\"]\n",
    "y_prob = im_features_white_test[\"Confidence\"]\n",
    "\n",
    "# Define a range of thresholds\n",
    "thresholds = np.arange(0.0, 1.1, 0.05)\n",
    "\n",
    "# Initialize lists to store TNR and FNR values for each threshold\n",
    "tnr_list = []\n",
    "fnr_list = []\n",
    "\n",
    "# Iterate over the thresholds\n",
    "for thresh in thresholds:\n",
    "    # Apply threshold to get binary predictions\n",
    "    y_pred = (y_prob >= thresh).astype(int)\n",
    "    \n",
    "    # Compute confusion matrix\n",
    "    tn, fp, fn, tp = confusion_matrix(y_true, y_pred).ravel()\n",
    "    \n",
    "    # TPR\n",
    "    tpr = tp/(tp + fn)\n",
    "    \n",
    "    # FPR\n",
    "    fpr = fp/(fp + tn)\n",
    "    \n",
    "    # Calculate True Negative Rate (TNR)\n",
    "    tnr = tn / (tn + fp)\n",
    "    \n",
    "    # Calculate False Negative Rate (FNR)\n",
    "    fnr = fn / (fn + tp)\n",
    "    \n",
    "    # Append the rates to the lists\n",
    "    tnr_list.append(tnr)\n",
    "    fnr_list.append(fnr)\n",
    "\n",
    "# Print the results\n",
    "for thresh, tnr, fnr in zip(thresholds, tnr_list, fnr_list):\n",
    "    print(f'Threshold: {thresh:.1f}, TNR: {tnr:.2f}, FNR: {fnr:.2f}')\n"
   ]
  },
  {
   "cell_type": "code",
   "execution_count": 238,
   "metadata": {},
   "outputs": [
    {
     "data": {
      "text/plain": [
       "(array([0.        , 0.        , 0.33333333, 0.33333333, 1.        ]),\n",
       " array([0. , 0.5, 0.5, 1. , 1. ]),\n",
       " array([ inf, 0.8 , 0.4 , 0.35, 0.1 ]))"
      ]
     },
     "execution_count": 238,
     "metadata": {},
     "output_type": "execute_result"
    }
   ],
   "source": []
  }
 ],
 "metadata": {
  "kernelspec": {
   "display_name": "facial_recognition_env",
   "language": "python",
   "name": "python3"
  },
  "language_info": {
   "codemirror_mode": {
    "name": "ipython",
    "version": 3
   },
   "file_extension": ".py",
   "mimetype": "text/x-python",
   "name": "python",
   "nbconvert_exporter": "python",
   "pygments_lexer": "ipython3",
   "version": "3.8.19"
  }
 },
 "nbformat": 4,
 "nbformat_minor": 2
}
