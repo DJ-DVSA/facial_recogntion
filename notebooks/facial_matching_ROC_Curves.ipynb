{
 "cells": [
  {
   "cell_type": "markdown",
   "metadata": {},
   "source": [
    "## Import Libraries"
   ]
  },
  {
   "cell_type": "code",
   "execution_count": 1,
   "metadata": {},
   "outputs": [
    {
     "name": "stderr",
     "output_type": "stream",
     "text": [
      "2024-07-22 13:16:43.153759: I tensorflow/core/util/port.cc:110] oneDNN custom operations are on. You may see slightly different numerical results due to floating-point round-off errors from different computation orders. To turn them off, set the environment variable `TF_ENABLE_ONEDNN_OPTS=0`.\n",
      "2024-07-22 13:16:43.284717: I tensorflow/tsl/cuda/cudart_stub.cc:28] Could not find cuda drivers on your machine, GPU will not be used.\n",
      "2024-07-22 13:16:43.913143: I tensorflow/tsl/cuda/cudart_stub.cc:28] Could not find cuda drivers on your machine, GPU will not be used.\n",
      "2024-07-22 13:16:43.918044: I tensorflow/core/platform/cpu_feature_guard.cc:182] This TensorFlow binary is optimized to use available CPU instructions in performance-critical operations.\n",
      "To enable the following instructions: AVX2 AVX512F AVX512_VNNI FMA, in other operations, rebuild TensorFlow with the appropriate compiler flags.\n",
      "2024-07-22 13:16:45.744278: W tensorflow/compiler/tf2tensorrt/utils/py_utils.cc:38] TF-TRT Warning: Could not find TensorRT\n"
     ]
    }
   ],
   "source": [
    "from deepface import DeepFace\n",
    "import pandas as pd\n",
    "from matplotlib import pyplot as plt\n",
    "\n",
    "import os\n",
    "from pathlib import Path\n",
    "from IPython.display import display\n",
    "import cv2"
   ]
  },
  {
   "cell_type": "markdown",
   "metadata": {},
   "source": [
    "### Paths"
   ]
  },
  {
   "cell_type": "code",
   "execution_count": null,
   "metadata": {},
   "outputs": [],
   "source": [
    "image_pth = '/home/dave/discovery_projects/driving_test_impersonation/lfw_images/lfw-deepfunneled/lfw-deepfunneled/'"
   ]
  },
  {
   "cell_type": "markdown",
   "metadata": {},
   "source": [
    "### Load required Data"
   ]
  },
  {
   "cell_type": "code",
   "execution_count": 29,
   "metadata": {},
   "outputs": [
    {
     "data": {
      "text/html": [
       "<div>\n",
       "<style scoped>\n",
       "    .dataframe tbody tr th:only-of-type {\n",
       "        vertical-align: middle;\n",
       "    }\n",
       "\n",
       "    .dataframe tbody tr th {\n",
       "        vertical-align: top;\n",
       "    }\n",
       "\n",
       "    .dataframe thead th {\n",
       "        text-align: right;\n",
       "    }\n",
       "</style>\n",
       "<table border=\"1\" class=\"dataframe\">\n",
       "  <thead>\n",
       "    <tr style=\"text-align: right;\">\n",
       "      <th></th>\n",
       "      <th>Unnamed: 0</th>\n",
       "      <th>Image</th>\n",
       "      <th>Age</th>\n",
       "      <th>Gender</th>\n",
       "      <th>Race</th>\n",
       "      <th>Emotion</th>\n",
       "      <th>face confidence</th>\n",
       "      <th>Name</th>\n",
       "    </tr>\n",
       "  </thead>\n",
       "  <tbody>\n",
       "    <tr>\n",
       "      <th>0</th>\n",
       "      <td>0</td>\n",
       "      <td>Antonio_Trillanes_0002.jpg</td>\n",
       "      <td>28</td>\n",
       "      <td>Man</td>\n",
       "      <td>black</td>\n",
       "      <td>surprise</td>\n",
       "      <td>0.91</td>\n",
       "      <td>Antonio_Trillanes</td>\n",
       "    </tr>\n",
       "    <tr>\n",
       "      <th>1</th>\n",
       "      <td>1</td>\n",
       "      <td>Antonio_Trillanes_0001.jpg</td>\n",
       "      <td>32</td>\n",
       "      <td>Man</td>\n",
       "      <td>asian</td>\n",
       "      <td>fear</td>\n",
       "      <td>0.92</td>\n",
       "      <td>Antonio_Trillanes</td>\n",
       "    </tr>\n",
       "    <tr>\n",
       "      <th>2</th>\n",
       "      <td>2</td>\n",
       "      <td>Antonio_Trillanes_0003.jpg</td>\n",
       "      <td>22</td>\n",
       "      <td>Man</td>\n",
       "      <td>asian</td>\n",
       "      <td>sad</td>\n",
       "      <td>0.93</td>\n",
       "      <td>Antonio_Trillanes</td>\n",
       "    </tr>\n",
       "    <tr>\n",
       "      <th>3</th>\n",
       "      <td>3</td>\n",
       "      <td>Priscilla_Owen_0002.jpg</td>\n",
       "      <td>39</td>\n",
       "      <td>Woman</td>\n",
       "      <td>white</td>\n",
       "      <td>happy</td>\n",
       "      <td>0.91</td>\n",
       "      <td>Priscilla_Owen</td>\n",
       "    </tr>\n",
       "    <tr>\n",
       "      <th>4</th>\n",
       "      <td>4</td>\n",
       "      <td>Priscilla_Owen_0001.jpg</td>\n",
       "      <td>35</td>\n",
       "      <td>Woman</td>\n",
       "      <td>white</td>\n",
       "      <td>neutral</td>\n",
       "      <td>0.88</td>\n",
       "      <td>Priscilla_Owen</td>\n",
       "    </tr>\n",
       "  </tbody>\n",
       "</table>\n",
       "</div>"
      ],
      "text/plain": [
       "   Unnamed: 0                       Image Age Gender   Race   Emotion  \\\n",
       "0           0  Antonio_Trillanes_0002.jpg  28    Man  black  surprise   \n",
       "1           1  Antonio_Trillanes_0001.jpg  32    Man  asian      fear   \n",
       "2           2  Antonio_Trillanes_0003.jpg  22    Man  asian       sad   \n",
       "3           3     Priscilla_Owen_0002.jpg  39  Woman  white     happy   \n",
       "4           4     Priscilla_Owen_0001.jpg  35  Woman  white   neutral   \n",
       "\n",
       "   face confidence               Name  \n",
       "0             0.91  Antonio_Trillanes  \n",
       "1             0.92  Antonio_Trillanes  \n",
       "2             0.93  Antonio_Trillanes  \n",
       "3             0.91     Priscilla_Owen  \n",
       "4             0.88     Priscilla_Owen  "
      ]
     },
     "execution_count": 29,
     "metadata": {},
     "output_type": "execute_result"
    }
   ],
   "source": [
    "im_features1 = pd.read_csv(\"/mnt/c/Users/Davidj/OneDrive - Driver and Vehicle Standards Agency/Documents/Projects/Discovery/Driving test facial Recognition/Main Discovery/deepface_test/face_classifications_csvs/lfw_class1.csv\")\n",
    "im_features2 = pd.read_csv(\"/mnt/c/Users/Davidj/OneDrive - Driver and Vehicle Standards Agency/Documents/Projects/Discovery/Driving test facial Recognition/Main Discovery/deepface_test/face_classifications_csvs/lfw_class2.csv\")\n",
    "im_features3 = pd.read_csv(\"/mnt/c/Users/Davidj/OneDrive - Driver and Vehicle Standards Agency/Documents/Projects/Discovery/Driving test facial Recognition/Main Discovery/deepface_test/face_classifications_csvs/lfw_class3.csv\")\n",
    "\n",
    "im_features = pd.concat([im_features1, im_features2, im_features3], axis=0)\n",
    "\n",
    "im_features.rename(columns = {'Name' : 'Image'}, inplace=True)\n",
    "\n",
    "im_features['Name'] = im_features['Image'].str.replace(r'_\\d{4}\\.jpg$', '', regex=True)\n",
    "\n",
    "# Remove nan\n",
    "im_features = im_features[~im_features['Race'].isna()]\n",
    "\n",
    "im_features.head()"
   ]
  },
  {
   "cell_type": "code",
   "execution_count": 10,
   "metadata": {},
   "outputs": [
    {
     "data": {
      "text/plain": [
       "((2597, 7), (2826, 7), (2814, 7), (8237, 7))"
      ]
     },
     "execution_count": 10,
     "metadata": {},
     "output_type": "execute_result"
    }
   ],
   "source": [
    "im_features1.shape, im_features2.shape, im_features3.shape, im_features.shape"
   ]
  },
  {
   "cell_type": "code",
   "execution_count": 37,
   "metadata": {},
   "outputs": [
    {
     "data": {
      "text/plain": [
       "array(['black', 'asian', 'white', 'middle eastern', 'latino hispanic',\n",
       "       'indian'], dtype=object)"
      ]
     },
     "execution_count": 37,
     "metadata": {},
     "output_type": "execute_result"
    }
   ],
   "source": [
    "im_features['Race'].unique()\n",
    "\n",
    "sum(im_features['Race'].isna())\n",
    "\n",
    "im_features['Race'].unique()"
   ]
  },
  {
   "cell_type": "markdown",
   "metadata": {},
   "source": [
    "### Get the numbers of different ethnicities"
   ]
  },
  {
   "cell_type": "code",
   "execution_count": 40,
   "metadata": {},
   "outputs": [
    {
     "data": {
      "text/plain": [
       "2"
      ]
     },
     "execution_count": 40,
     "metadata": {},
     "output_type": "execute_result"
    }
   ],
   "source": [
    "im_features_unique = im_features.groupby('Name')['Race'].apply(lambda x: '|'.join(sorted(x.unique()))).reset_index()\n",
    "\n",
    "sum(im_features_unique['Race'] == 'indian')"
   ]
  },
  {
   "cell_type": "markdown",
   "metadata": {},
   "source": [
    "### Create matched test set"
   ]
  },
  {
   "cell_type": "code",
   "execution_count": null,
   "metadata": {},
   "outputs": [],
   "source": []
  },
  {
   "cell_type": "markdown",
   "metadata": {},
   "source": [
    "### Create unmatched test set"
   ]
  },
  {
   "cell_type": "markdown",
   "metadata": {},
   "source": []
  }
 ],
 "metadata": {
  "kernelspec": {
   "display_name": "facial_recognition_env",
   "language": "python",
   "name": "python3"
  },
  "language_info": {
   "codemirror_mode": {
    "name": "ipython",
    "version": 3
   },
   "file_extension": ".py",
   "mimetype": "text/x-python",
   "name": "python",
   "nbconvert_exporter": "python",
   "pygments_lexer": "ipython3",
   "version": "3.8.19"
  }
 },
 "nbformat": 4,
 "nbformat_minor": 2
}
